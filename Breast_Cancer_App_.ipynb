{
  "nbformat": 4,
  "nbformat_minor": 0,
  "metadata": {
    "colab": {
      "provenance": []
    },
    "kernelspec": {
      "name": "python3",
      "display_name": "Python 3"
    },
    "language_info": {
      "name": "python"
    }
  },
  "cells": [
    {
      "cell_type": "code",
      "execution_count": 2,
      "metadata": {
        "colab": {
          "base_uri": "https://localhost:8080/",
          "height": 778
        },
        "id": "mK_buY2RMsTS",
        "outputId": "72b3a80a-89fd-496d-e4f5-b83fdb2d26c4"
      },
      "outputs": [
        {
          "output_type": "stream",
          "name": "stderr",
          "text": [
            "/tmp/ipython-input-2-2430198163.py:16: FutureWarning: A value is trying to be set on a copy of a DataFrame or Series through chained assignment using an inplace method.\n",
            "The behavior will change in pandas 3.0. This inplace method will never work because the intermediate object on which we are setting values always behaves as a copy.\n",
            "\n",
            "For example, when doing 'df[col].method(value, inplace=True)', try using 'df.method({col: value}, inplace=True)' or df[col] = df[col].method(value) instead, to perform the operation inplace on the original object.\n",
            "\n",
            "\n",
            "  df['Bare_Nuclei'].replace('?', np.nan, inplace=True)\n"
          ]
        },
        {
          "output_type": "stream",
          "name": "stdout",
          "text": [
            "It looks like you are running Gradio on a hosted Jupyter notebook, which requires `share=True`. Automatically setting `share=True` (you can turn this off by setting `share=False` in `launch()` explicitly).\n",
            "\n",
            "Colab notebook detected. To show errors in colab notebook, set debug=True in launch()\n",
            "* Running on public URL: https://a54c44cb1bd275b312.gradio.live\n",
            "\n",
            "This share link expires in 1 week. For free permanent hosting and GPU upgrades, run `gradio deploy` from the terminal in the working directory to deploy to Hugging Face Spaces (https://huggingface.co/spaces)\n"
          ]
        },
        {
          "output_type": "display_data",
          "data": {
            "text/plain": [
              "<IPython.core.display.HTML object>"
            ],
            "text/html": [
              "<div><iframe src=\"https://a54c44cb1bd275b312.gradio.live\" width=\"100%\" height=\"500\" allow=\"autoplay; camera; microphone; clipboard-read; clipboard-write;\" frameborder=\"0\" allowfullscreen></iframe></div>"
            ]
          },
          "metadata": {}
        },
        {
          "output_type": "execute_result",
          "data": {
            "text/plain": []
          },
          "metadata": {},
          "execution_count": 2
        }
      ],
      "source": [
        "import pandas as pd\n",
        "import numpy as np\n",
        "from sklearn.model_selection import train_test_split\n",
        "from sklearn.ensemble import RandomForestClassifier\n",
        "from sklearn.preprocessing import StandardScaler\n",
        "import gradio as gr\n",
        "\n",
        "# Step 1: Load and prepare the dataset\n",
        "column_names = ['ID', 'Clump_Thickness', 'Uniformity_Cell_Size', 'Uniformity_Cell_Shape',\n",
        "                'Marginal_Adhesion', 'Single_Epithelial_Cell_Size', 'Bare_Nuclei',\n",
        "                'Bland_Chromatin', 'Normal_Nucleoli', 'Mitoses', 'Class']\n",
        "\n",
        "df = pd.read_csv(\"/content/breast-cancer-wisconsin.data\", names=column_names)\n",
        "\n",
        "# Preprocessing\n",
        "df['Bare_Nuclei'].replace('?', np.nan, inplace=True)\n",
        "df.dropna(inplace=True)\n",
        "df['Bare_Nuclei'] = df['Bare_Nuclei'].astype(int)\n",
        "df.drop('ID', axis=1, inplace=True)\n",
        "\n",
        "X = df.drop('Class', axis=1)\n",
        "y = df['Class'].map({2: 0, 4: 1})  # 0 = Benign, 1 = Malignant\n",
        "\n",
        "# Train-test split and scaling\n",
        "X_train, X_test, y_train, y_test = train_test_split(X, y, test_size=0.2, random_state=42)\n",
        "scaler = StandardScaler()\n",
        "X_train_scaled = scaler.fit_transform(X_train)\n",
        "X_test_scaled = scaler.transform(X_test)\n",
        "\n",
        "# Train model\n",
        "model = RandomForestClassifier(n_estimators=100, random_state=42)\n",
        "model.fit(X_train_scaled, y_train)\n",
        "\n",
        "# Step 2: Define prediction function\n",
        "def predict_cancer(clump, cell_size, cell_shape, adhesion,\n",
        "                   epithelial_size, nuclei, chromatin, nucleoli, mitoses):\n",
        "    input_data = np.array([[clump, cell_size, cell_shape, adhesion,\n",
        "                            epithelial_size, nuclei, chromatin, nucleoli, mitoses]])\n",
        "    input_scaled = scaler.transform(input_data)\n",
        "    prediction = model.predict(input_scaled)[0]\n",
        "    return \"🔴 Malignant\" if prediction == 1 else \"🟢 Benign\"\n",
        "\n",
        "# Step 3: Create Gradio interface\n",
        "inputs = [\n",
        "    gr.Slider(1, 10, step=1, label=\"Clump Thickness\"),\n",
        "    gr.Slider(1, 10, step=1, label=\"Uniformity of Cell Size\"),\n",
        "    gr.Slider(1, 10, step=1, label=\"Uniformity of Cell Shape\"),\n",
        "    gr.Slider(1, 10, step=1, label=\"Marginal Adhesion\"),\n",
        "    gr.Slider(1, 10, step=1, label=\"Single Epithelial Cell Size\"),\n",
        "    gr.Slider(1, 10, step=1, label=\"Bare Nuclei\"),\n",
        "    gr.Slider(1, 10, step=1, label=\"Bland Chromatin\"),\n",
        "    gr.Slider(1, 10, step=1, label=\"Normal Nucleoli\"),\n",
        "    gr.Slider(1, 10, step=1, label=\"Mitoses\"),\n",
        "]\n",
        "\n",
        "gr.Interface(\n",
        "    fn=predict_cancer,\n",
        "    inputs=inputs,\n",
        "    outputs=\"text\",\n",
        "    title=\"🔬 Breast Cancer Prediction\",\n",
        "    description=\"Enter medical cell sample features to predict whether the tumor is benign or malignant.\",\n",
        "    theme=\"default\"\n",
        ").launch()\n"
      ]
    }
  ]
}